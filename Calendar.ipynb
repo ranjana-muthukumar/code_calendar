{
  "nbformat": 4,
  "nbformat_minor": 0,
  "metadata": {
    "colab": {
      "private_outputs": true,
      "provenance": [],
      "authorship_tag": "ABX9TyOXgRNj8kkPSoK70IfX60ay",
      "include_colab_link": true
    },
    "kernelspec": {
      "name": "python3",
      "display_name": "Python 3"
    },
    "language_info": {
      "name": "python"
    }
  },
  "cells": [
    {
      "cell_type": "markdown",
      "metadata": {
        "id": "view-in-github",
        "colab_type": "text"
      },
      "source": [
        "<a href=\"https://colab.research.google.com/github/ranjana-muthukumar/code_calendar/blob/main/Calendar.ipynb\" target=\"_parent\"><img src=\"https://colab.research.google.com/assets/colab-badge.svg\" alt=\"Open In Colab\"/></a>"
      ]
    },
    {
      "cell_type": "code",
      "execution_count": null,
      "metadata": {
        "id": "dN6MWIv3uXeC"
      },
      "outputs": [],
      "source": [
        "#program to calendar\n",
        "import calendar\n",
        "yy=int(input(\"Enter the Year:\"))\n",
        "mm=int(input(\"Enter the month:\"))\n",
        "calenDate=calendar.month(yy,mm)\n",
        "print(calenDate)"
      ]
    }
  ]
}